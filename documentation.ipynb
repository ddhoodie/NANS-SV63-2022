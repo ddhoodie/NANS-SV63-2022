{
 "cells": [
  {
   "cell_type": "markdown",
   "source": [
    "# Procena popularnosti video igre GTA VI primenom višestruke linearne regresije "
   ],
   "metadata": {
    "collapsed": false
   },
   "id": "a0eef6df77d34aa3"
  },
  {
   "cell_type": "markdown",
   "source": [
    "## Uvod"
   ],
   "metadata": {
    "collapsed": false
   },
   "id": "ab04bc3251c866af"
  },
  {
   "cell_type": "markdown",
   "source": [
    "Cilj ovog projekta jeste napraviti model koji će uspešno da opisuje broj igrača jedne igrice razmatrajući razne faktore. Uspešno predviđanje buduće igranosti ove visoko iščekivane igre može dovesti do daljih korisnih zaključaka kao što je zarada kompanije. \n",
    "Projekat je generalizovao procenu popularnosti na bilo koju igru, dok je GTA 6 bio cilj zbog iščekivanosti njegovog izlaska. "
   ],
   "metadata": {
    "collapsed": false
   },
   "id": "163038510fcaf134"
  },
  {
   "cell_type": "markdown",
   "source": [
    "Kroz GUI programa je omogućeno korisnicima da unesu podatke za neku igricu i potom se GUI ispisuje procenu broja igrača koju je ostvario model. GUI je rađen kroz PyQt biblioteku. "
   ],
   "metadata": {
    "collapsed": false
   },
   "id": "20687aa7264fafe9"
  },
  {
   "cell_type": "markdown",
   "source": [
    "## Skup podataka"
   ],
   "metadata": {
    "collapsed": false
   },
   "id": "ab4f7d93747b6ea2"
  },
  {
   "cell_type": "markdown",
   "source": [
    "#### Prvi skup podataka"
   ],
   "metadata": {
    "collapsed": false
   },
   "id": "3b7f86a513e3cfa0"
  },
  {
   "cell_type": "markdown",
   "source": [
    "Prvi korak u izradi ovog projekta jeste razmatranje koji sve faktori mogu da utiču na broj igrača. Primer jednog uzorka, tj. faktora jedne igre jeste:"
   ],
   "metadata": {
    "collapsed": false
   },
   "id": "599592d9ecfc9c9e"
  },
  {
   "cell_type": "code",
   "outputs": [],
   "source": [
    "{\n",
    "  \"name\": \"The Elder Scrolls V: Skyrim\", # Name korišćen samo radi preglednosti\n",
    "  \"daily_players\": 25000, # Broj igrača u trenutku izrade projekta (ciljana vrednost)\n",
    "  \"rating\": 0.95, # Ocena igrice (intuitivno ukoliko je ocena veća, broj igrača je veći)\n",
    "  \"company_budget\": 80000000, # Budžet kompanije za izradu igrice (intuitivno ukoliko je budžet veći, broj igrača je veći)\n",
    "  \"years_released\": 4, # Koliko davno je igrica puštena u javnost (intuitivno što dalje, broj igrača manji)\n",
    "  \"trailer_views\": 15000000, # Broj prikaza na trejleru (intuitivno ukoliko podržava broj igrača je veći)\n",
    "  \"google_trend\": 0.4, # Google trend jeste merilo aktuelnosti neke teme na internetu (što veći trend, veći broj igrača)\n",
    "  \"game_of_the_year\": true, # Nagrada igra godine (Iako se za buduću igru ne zna da li će dobiti nagradu, može se pretpostaviti)\n",
    "  \"multiplayer\": true, # Da li podržava multiplayer (intuitivno ukoliko podržava broj igrača je veći)\n",
    "  \"platform_availability\": { # Dostupnost na platformama (intuitivno ako je dostupna na više platforma, broj igrača je veći)\n",
    "    \"PC\": true,\n",
    "    \"PLAYSTATION\": true,\n",
    "    \"XBOX\": true,\n",
    "    \"PHONE\": false\n",
    "  }, \n",
    "  \"genre\": { # Žanr igrice korišćen za razlikovanje uspešnosti po žanru\n",
    "    \"action\": false,\n",
    "    \"adventure\": true,\n",
    "    \"rpg\": true,\n",
    "    \"simulation\": false,\n",
    "    \"sports\": false,\n",
    "    \"puzzle\": false,\n",
    "    \"horror\": false,\n",
    "    \"survival\": false,\n",
    "    \"indie\": false,\n",
    "    \"fps\": false,\n",
    "    \"mmo\": true,\n",
    "    \"open_world\": true\n",
    "  }\n",
    "}"
   ],
   "metadata": {
    "collapsed": false
   },
   "id": "41ead26c3a2fecd9"
  },
  {
   "cell_type": "markdown",
   "source": [
    "Gore prikazani dataset je prvi pokušaj pravljenja validnog dataseta. Mada kroz testiranje dataset-a (od 60-tak igrica) nad raznim modelima, nikakva linearnost se nije mogla videti. Kao glavni test model bio je OLS, koji je padao na skoro sve linearne pretpostavke.\n"
   ],
   "metadata": {
    "collapsed": false
   },
   "id": "e03c0656b7e5613a"
  },
  {
   "cell_type": "markdown",
   "source": [
    "Sledeći korak jeste razmatranje zašto je ovaj dataset \"loš\" i njegova prepravka. Odlučio sam da obrišem game_of_the_year, rating budući da se oni nisu mogli znati unapred. Pored brisanja 2 stavke, model se nije značajno promenio. Glavni tok misli za ovaj model jeste da daily players najviše prati koliko je davno puštena igrica, ubaci budžet kompanije, broj prikaza i google trend. Međutim, model nije uspeo da uspešno da prepozna šablon pa nije bio ni validan za ovaj projekat. "
   ],
   "metadata": {
    "collapsed": false
   },
   "id": "f9b0caa7418be792"
  },
  {
   "cell_type": "markdown",
   "source": [
    "Ono što je dodatno doprinelo njegovom neuspehu jeste nedostatak informacija za budžet kompanije koji je bio vrlo važan podatak.\n",
    "Dopunjavanje ovog podatka je nerealno prikazivao budžet kompanije za igricu."
   ],
   "metadata": {
    "collapsed": false
   },
   "id": "51942b8778586e4b"
  },
  {
   "cell_type": "markdown",
   "source": [
    "#### Drugi skup podataka"
   ],
   "metadata": {
    "collapsed": false
   },
   "id": "623b69a612b0a7d0"
  },
  {
   "cell_type": "markdown",
   "source": [
    "Nakon neuspešnog prvog dataset-a, shvatio sam da treba naći jedan ili dva faktora koji najviše utiču na model i ne tražiti previše od modela. Odlučio sam da promenim ciljanu vrednost (y) da bude broj igrača u momentu kada je izašla igrica. "
   ],
   "metadata": {
    "collapsed": false
   },
   "id": "298398ffb93a725d"
  },
  {
   "cell_type": "markdown",
   "source": [
    "Zbog ove odluke, google trend danas i years_released nisu imali toliko veliki značaj jer se procenjivalo u trenutku izlaska igrice.\n",
    "Statistika za broj igrača se mogla naći samo na Steam-u (platformi za video igre), pa je ceo fokus bio da se nađe broj igrača pri izlasku na Steam-u. "
   ],
   "metadata": {
    "collapsed": false
   },
   "id": "c141baa3475c4673"
  },
  {
   "cell_type": "markdown",
   "source": [
    "Renovirani skup podataka izgleda ovako: "
   ],
   "metadata": {
    "collapsed": false
   },
   "id": "ad9841470c095986"
  },
  {
   "cell_type": "code",
   "outputs": [],
   "source": [
    "{\n",
    "  \"name\": \"The Elder Scrolls V: Skyrim\",\n",
    "  \"players_on_launch\": 69000, # ciljana vrednost za predviđanje\n",
    "  \"players_after_1year\": 18000, # ili ova\n",
    "  \"year_of_release\": 2016, # Faktor koji želi da pomogne modelu da shvati Kasnije => više igrača ukupno => više igrača u igri\n",
    "  \"company_budget\": 80000000, # Glavni faktor na koga se oslanja model\n",
    "  \"trailer_views\": 15000000, # Glavni faktor na koga se oslanja model\n",
    "  \"multiplayer\": true, \n",
    "  \"platform_availability\": {\n",
    "    \"PC\": true,\n",
    "    \"PLAYSTATION\": true,\n",
    "    \"XBOX\": true\n",
    "  },\n",
    "  \"genre\": {\n",
    "    \"action\": false,\n",
    "    \"adventure\": true,\n",
    "    \"rpg\": true,\n",
    "    \"simulation\": false,\n",
    "    \"sports\": false,\n",
    "    \"puzzle\": false,\n",
    "    \"horror\": false,\n",
    "    \"survival\": false,\n",
    "    \"indie\": false,\n",
    "    \"fps\": false,\n",
    "    \"mmo\": true,\n",
    "    \"open_world\": true,\n",
    "    \"story_mode\": false,\n",
    "    \"strategy\": false\n",
    "  }\n",
    "}"
   ],
   "metadata": {
    "collapsed": false
   },
   "id": "5b368491fd5a3d55"
  },
  {
   "cell_type": "markdown",
   "source": [
    "Renovirani skup podataka direktnije opisuje broj igrača i jednostavnije za razumevanje, međutim na račun ograničenja samo na Steam dostupne igre. Zbog ovoga, sve video igre jesu PC igre, pa ih možemo izbaciti."
   ],
   "metadata": {
    "collapsed": false
   },
   "id": "5f2a1b5ff4e2a416"
  },
  {
   "cell_type": "markdown",
   "source": [
    "## Metodologija"
   ],
   "metadata": {
    "collapsed": false
   },
   "id": "36a887af2c2e3c6c"
  },
  {
   "cell_type": "markdown",
   "source": [
    "Koraci koji su potrebni da bi se dobro napravio model su sledeći:"
   ],
   "metadata": {
    "collapsed": false
   },
   "id": "298b42fba369ea7c"
  },
  {
   "cell_type": "markdown",
   "source": [
    "- Učitavanje skupa podataka i njegova regularizacija\n",
    "- Biranje metrike RMSE i R-squared\n",
    "- Biranje modela i njegova implementacija \n",
    "- Procena modela i prepravke"
   ],
   "metadata": {
    "collapsed": false
   },
   "id": "dd4c791ca05adfd2"
  },
  {
   "cell_type": "markdown",
   "source": [
    "## Implementacija"
   ],
   "metadata": {
    "collapsed": false
   },
   "id": "8562835ce14d69c6"
  },
  {
   "cell_type": "markdown",
   "source": [
    "### Dataset"
   ],
   "metadata": {
    "collapsed": false
   },
   "id": "cba4f0889728cab8"
  },
  {
   "cell_type": "markdown",
   "source": [
    "Predprocesiraćemo podatke iz dataset-a. Pošto je dataset u JSON formatu i imamo true/false vrednosti, prvo ćemo ukloniti ugneždene faktore i pretvoriti bool vrednosti u 0/1. "
   ],
   "metadata": {
    "collapsed": false
   },
   "id": "cbd72b3da471e754"
  },
  {
   "cell_type": "code",
   "outputs": [],
   "source": [
    "with open('data/dataset.json', 'r') as file:\n",
    "    data = json.load(file)\n",
    "games_list = data['games']\n",
    "flattened_data = pd.json_normalize(games_list)\n",
    "dataset = pd.DataFrame(flattened_data).drop('name', axis=1)\n",
    "for col in TO_CONVERT:\n",
    "    dataset[col] = dataset[col].astype(int)\n",
    "X = dataset.drop(TO_DROP, axis=1) # TO_DROP predstavlja faktore koji nisu ciljna vrednost i faktore koje nećemo koristiti pri izradi modela\n",
    "y = dataset[y_var] # predstavlja ciljanu vrednost"
   ],
   "metadata": {
    "collapsed": false
   },
   "id": "3c4c8f128168e52d"
  },
  {
   "cell_type": "markdown",
   "source": [
    "Sledeći korak jeste podela dataset-a na train/val podatke. "
   ],
   "metadata": {
    "collapsed": false
   },
   "id": "71ed9c0254be4191"
  },
  {
   "cell_type": "code",
   "outputs": [],
   "source": [
    "X_train, X_val, y_train, y_val = train_test_split(X, y, test_size=0.25, random_state=42)"
   ],
   "metadata": {
    "collapsed": false
   },
   "id": "d23b7df2fd84a13"
  },
  {
   "cell_type": "markdown",
   "source": [
    "### Metrika"
   ],
   "metadata": {
    "collapsed": false
   },
   "id": "5aee7e31018db328"
  },
  {
   "cell_type": "markdown",
   "source": [
    "Za procenjivanje uspešnosti modela koristićemo Root Mean Squared Error iz biblioteke numpy (RMSE se koristi za procenu prosečne veličine greške između stvarnih i predviđenih vrednosti ciljne promenljive)."
   ],
   "metadata": {
    "collapsed": false
   },
   "id": "2ddd171029631eb"
  },
  {
   "cell_type": "code",
   "outputs": [],
   "source": [
    "import numpy as np\n",
    "rmse = np.sqrt(mean_squared_error(y_val, train_predictions))\n",
    "print(\"RMSE on validation set:\", rmse)"
   ],
   "metadata": {
    "collapsed": false,
    "is_executing": true
   },
   "id": "ee38a86ef14465e1"
  },
  {
   "cell_type": "markdown",
   "source": [
    "Pored RMSE, koristićemo R-squared kako bi tačnije procenili model."
   ],
   "metadata": {
    "collapsed": false
   },
   "id": "b1173152780c8445"
  },
  {
   "cell_type": "markdown",
   "source": [
    "### Modeli"
   ],
   "metadata": {
    "collapsed": false
   },
   "id": "9b36fa2286ac4d7"
  },
  {
   "cell_type": "markdown",
   "source": [
    "#### Huber regresioni model"
   ],
   "metadata": {
    "collapsed": false
   },
   "id": "63e6cdff87df0b9e"
  },
  {
   "cell_type": "markdown",
   "source": [
    "Huber regresija je tehnika robustne regresije koja je manje osetljiva na ekstremne vrednosti u podacima u poređenju sa običnom linearnom regresijom (OLS). Korisna je posebno kada skup podataka sadrži ekstremne vrednosti ili greške koje ne prate normalnu raspodelu.\n",
    "\n",
    "U Huber regresiji, funkcija gubitka koja se koristi za optimizaciju je kombinacija kvadratne greške (kao kod OLS regresije) za male greške i apsolutne greške za velike greške. Ovo čini model manje podložnim na ekstremne vrednosti jer se uticaj velikih grešaka smanjuje u poređenju sa OLS regresijom."
   ],
   "metadata": {
    "collapsed": false
   },
   "id": "958026b56aa23048"
  },
  {
   "cell_type": "markdown",
   "source": [
    "Huber regresioni model je testiran, međutim nije se proslavio. Naš dataset je od početka bio potpun jer se uzimala statistika sa Steam-a i nije bilo potrebna veštačka dopuna, pa su outlajeri što se tiče ovog dela odsutni. Medjutim, mogući su outlajeri što se tiče abnormalnih brojeva u datasetu. Sa tim da je dataset uzet nad 63 steam igrice koje su dosta raznovrsne, prepoznavanje tačnih outlajera nad malim datasetom sa toliko mnogo faktora je skoro nemoguće. Zbog ovog razloga nije korišćen Huber regresioni model."
   ],
   "metadata": {
    "collapsed": false
   },
   "id": "14a8cd37c229caa6"
  },
  {
   "cell_type": "markdown",
   "source": [
    "#### ElasticNet model"
   ],
   "metadata": {
    "collapsed": false
   },
   "id": "e3ea48b34c0cdc1"
  },
  {
   "cell_type": "markdown",
   "source": [
    "Elastic Net je tehnika regularizovane regresije koja kombinuje L1 (LASSO) i L2 (Ridge) regularizaciju kako bi se smanjio overfitting i poboljšala generalizacija modela. Ova tehnika je posebno korisna kada postoji korelacija između faktora u podacima, jer LASSO i Ridge regularizacija imaju različite efekte na koeficijente regresije."
   ],
   "metadata": {
    "collapsed": false
   },
   "id": "d8000102e134c4c0"
  },
  {
   "cell_type": "markdown",
   "source": [
    "Sa velikim skupom podataka, postoji veća verovatnoća da će se susresti irelevantne karakteristike. Mogućnost ElasticNet-a da primenjuje i L1 (Lasso) i L2 (Ridge) pomaže u rešavanju prenaučenosti tako što smanjuje koeficijente i pojednostavljuje model. Ova regularizacija je posebno korisna kada postoji mnogo karakteristika, od kojih neke možda nisu relevantne za ciljnu promenljivu. \n",
    "\n",
    "Uzmimo u obzir da je naš dataset relativno mali u odnosu na broj faktora. Sa pretpostavkom da ElasticNet neće mnogo pomoći pri pravljenju validnog modela i dalje je testiran. "
   ],
   "metadata": {
    "collapsed": false
   },
   "id": "6905bad251471822"
  },
  {
   "cell_type": "code",
   "outputs": [],
   "source": [
    "# SVI FAKTORI\n",
    "# R-squared (ElasticNet): 0.2103721092648091\n",
    "# Adjusted R-squared: 0.09192792565453056\n",
    "# RMSE on validation set: 91991.86115539471\n",
    "# \n",
    "# BRISANJE ŽANR FAKTORA\n",
    "# R-squared (ElasticNet): 0.3772549674651906\n",
    "# Adjusted R-squared: -0.10177967294620127\n",
    "# RMSE on validation set: 89753.57933641819"
   ],
   "metadata": {
    "collapsed": false
   },
   "id": "6407c43de538b608"
  },
  {
   "cell_type": "markdown",
   "source": [
    "Iako je RMSE relativno dobar, R-kvadrat je loš, što može ukazivati na nedostatak reprezentativnosti ili obuhvata u skupu podataka. "
   ],
   "metadata": {
    "collapsed": false
   },
   "id": "a44b9a5daa9c4252"
  },
  {
   "cell_type": "markdown",
   "source": [
    "#### RANSAC model"
   ],
   "metadata": {
    "collapsed": false
   },
   "id": "b2c47e75bb32eac1"
  },
  {
   "cell_type": "markdown",
   "source": [
    "Glavna ideja RANSAC algoritma je da iterativno procenjuje parametre modela na osnovu nasumično izabranog podskupa podataka (tzv. \"inliers\"), a zatim procenjene parametre koristi za identifikaciju drugih podataka koji se dobro podudaraju sa modelom. Podaci koji se ne podudaraju sa modelom smatraju se ekstremnim vrednostima i izostavljaju se iz procene parametara u narednim iteracijama.\n",
    "Ovo je nepogodno za ovaj dataset i ovaj problem jer ima dosta faktora i raznovrsnih igrica, tako da ako se uzme\n",
    "delić dataset-a, moze značajno da promeni model."
   ],
   "metadata": {
    "collapsed": false
   },
   "id": "d0e8d082adbd1ec"
  },
  {
   "cell_type": "markdown",
   "source": [
    "#### RandomForest model"
   ],
   "metadata": {
    "collapsed": false
   },
   "id": "f2413e2b73aa028"
  },
  {
   "cell_type": "markdown",
   "source": [
    "Vrlo slična situacija kao i kod RANSAC modela, RandomForest uzima deliće dataseta i pravi model nad njima i pravi predikcije,\n",
    "potom kombinuje te predikcije. Ovo je nemoguće na ovom datasetu jer je vrlo mali i uzimanjem delića dataset-a mogu se uzeti\n",
    "znatno različiti podskupovi, pa ih je nemoguce kombinovati validno."
   ],
   "metadata": {
    "collapsed": false
   },
   "id": "a6dec50a080d2bf"
  },
  {
   "cell_type": "markdown",
   "source": [
    "#### OLS model"
   ],
   "metadata": {
    "collapsed": false
   },
   "id": "68e11d7e383b0bf5"
  },
  {
   "cell_type": "markdown",
   "source": [
    "Budući da je OLS 'najjednostavniji model' gde ukoliko 1 ili 2 faktora imaju najveći uticaj na ciljnu promenljivu njegovo korišćenje se može isplatiti. Kod nas je upravo to situacija. Polja 'trailer_views' i 'company_budget' imaju najveći uticaj na 'players_on_lauch'."
   ],
   "metadata": {
    "collapsed": false
   },
   "id": "72e1679cc6669260"
  },
  {
   "cell_type": "code",
   "outputs": [],
   "source": [
    "model = LinearRegression()\n",
    "model.fit(X_train, y_train)\n",
    "model_statsmodel = sm.OLS(y_train, X_train)\n",
    "results = model_statsmodel.fit()\n",
    "print(results.summary())"
   ],
   "metadata": {
    "collapsed": false
   },
   "id": "fd1fbe519ff42f00"
  },
  {
   "cell_type": "code",
   "outputs": [],
   "source": [
    "# =====================================================================================================\n",
    "#                                         coef    std err          t      P>|t|      [0.025      0.975]\n",
    "# -----------------------------------------------------------------------------------------------------\n",
    "# year_of_release                      38.0871     46.565      0.818      0.420     -57.011     133.185\n",
    "# company_budget                       -0.0005      0.000     -1.864      0.072      -0.001    5.24e-05\n",
    "# trailer_views                         0.0027      0.002      1.637      0.112      -0.001       0.006\n",
    "# multiplayer                        4.772e+04   5.54e+04      0.861      0.396   -6.55e+04    1.61e+05\n",
    "# platform_availability.PLAYSTATION -1.382e+05   9.17e+04     -1.508      0.142   -3.25e+05     4.9e+04\n",
    "# platform_availability.XBOX         1.212e+05   8.05e+04      1.505      0.143   -4.32e+04    2.86e+05\n",
    "# genre.action                       8.362e+04   5.79e+04      1.445      0.159   -3.46e+04    2.02e+05\n",
    "# genre.adventure                   -1.765e+05   6.22e+04     -2.837      0.008   -3.03e+05   -4.94e+04\n",
    "# genre.rpg                          6.741e+04   7.15e+04      0.943      0.353   -7.86e+04    2.13e+05\n",
    "# genre.simulation                  -8845.6416   7.48e+04     -0.118      0.907   -1.62e+05    1.44e+05\n",
    "# genre.sports                      -4.627e+04   1.24e+05     -0.372      0.712      -3e+05    2.08e+05\n",
    "# genre.puzzle                       9.181e+04   1.25e+05      0.736      0.468   -1.63e+05    3.47e+05\n",
    "# genre.horror                      -4.695e+04   7.32e+04     -0.642      0.526   -1.96e+05    1.02e+05\n",
    "# genre.survival                    -3637.2169      1e+05     -0.036      0.971   -2.09e+05    2.01e+05\n",
    "# genre.indie                       -3378.0211   6.75e+04     -0.050      0.960   -1.41e+05    1.35e+05\n",
    "# genre.fps                          1.101e+04   1.01e+05      0.109      0.914   -1.95e+05    2.17e+05\n",
    "# genre.mmo                         -3.531e+04    1.1e+05     -0.321      0.751    -2.6e+05    1.89e+05\n",
    "# genre.open_world                   1.453e+05   9.25e+04      1.570      0.127   -4.36e+04    3.34e+05\n",
    "# genre.story_mode                    5.89e+04   1.08e+05      0.547      0.589   -1.61e+05    2.79e+05\n",
    "# genre.strategy                    -4.253e+04   7.81e+04     -0.545      0.590   -2.02e+05    1.17e+05\n",
    "# ====================================================================================================="
   ],
   "metadata": {
    "collapsed": false
   },
   "id": "eb7da7411540d14e"
  },
  {
   "cell_type": "markdown",
   "source": [],
   "metadata": {
    "collapsed": false
   },
   "id": "a60a46aa708e48c9"
  },
  {
   "cell_type": "markdown",
   "source": [
    "Na summary(), možemo uočiti da faktori poput survival, indie, fps, survival, simulation ne utiču mnogo na model pa ih možda možemo ukloniti. \n",
    "Dok genre.indie ima smisla ukloniti jer on zapravo predstavlja samo da li je kompanija koja je proizvela ovo nezavisna i uobičajeno sa malim budžetom, ostali faktori fps, survival i simulation dosta zavise od skupa podataka koje uzmemo. Menjanjem veličine skupa podataka znatno se menjaju koeficijenti za ove faktore. Zbog ovog razloga, ostavićemo ih i dalje u modelu. "
   ],
   "metadata": {
    "collapsed": false
   },
   "id": "696040451135a17d"
  },
  {
   "cell_type": "markdown",
   "source": [
    "Faktori koji dosta utiču na broj igrača jesu: \n",
    "- company budget -> Naš model govori da što je budžet veći, to ima manje igrača što deluje apsurdno. Međutim, ovo može ukazivati da je trailer views u relaciji sa budžetom kompanije i ukoliko je budžet veliki, ništa ne znači ako video igra nema dovoljno prikaza. \n",
    "- trailer views -> Direktno govori o popularnosti igrice\n",
    "- adventure -> Adventure zahteva veći budžet, ali se igrači smanjuju. Ovo može ukazivati na zasićenost marketa za adventure žanrom.\n",
    "- open world -> Broj igrača je znatno veći sa tim da zahteva takođe veći budžet. "
   ],
   "metadata": {
    "collapsed": false
   },
   "id": "4dc14f348eb498a8"
  },
  {
   "cell_type": "markdown",
   "source": [
    "R-squared (uncentered):                   0.669\n",
    "Adj. R-squared (uncentered):              0.513\n",
    "RMSE on validation set: 147096.0935324357"
   ],
   "metadata": {
    "collapsed": false
   },
   "id": "dcb54e6604305c8"
  },
  {
   "cell_type": "markdown",
   "source": [
    "Budući da naš dataset sadrži 63 igrice gde su igrice izdeljene na žanrove, modelu je možda teško napraviti šablon. Zbog ovoga, model je isproban bez žanr sekcije. "
   ],
   "metadata": {
    "collapsed": false
   },
   "id": "79ec1ad619a13811"
  },
  {
   "cell_type": "code",
   "outputs": [],
   "source": [
    "# =====================================================================================================\n",
    "#                                         coef    std err          t      P>|t|      [0.025      0.975]\n",
    "# -----------------------------------------------------------------------------------------------------\n",
    "# year_of_release                      31.6192     25.813      1.225      0.227     -20.404      83.643\n",
    "# company_budget                    -3.382e-05      0.000     -0.147      0.883      -0.000       0.000\n",
    "# trailer_views                         0.0039      0.002      2.395      0.021       0.001       0.007\n",
    "# multiplayer                        1.992e+04   4.27e+04      0.466      0.644   -6.62e+04    1.06e+05\n",
    "# platform_availability.PLAYSTATION  -5.33e+04   8.05e+04     -0.662      0.512   -2.16e+05    1.09e+05\n",
    "# platform_availability.XBOX          5.23e+04   7.45e+04      0.702      0.486   -9.79e+04    2.02e+05\n",
    "# ====================================================================================================="
   ],
   "metadata": {
    "collapsed": false
   },
   "id": "28e2c1a1fd5988b9"
  },
  {
   "cell_type": "markdown",
   "source": [
    "Ovaj model prikazuje da budžet nije toliko bitan već prikazi na trejleru."
   ],
   "metadata": {
    "collapsed": false
   },
   "id": "8d1a0692d8359f2b"
  },
  {
   "cell_type": "markdown",
   "source": [
    "R-squared (uncentered):                   0.424\n",
    "Adj. R-squared (uncentered):              0.346\n",
    "RMSE on validation set: 84506.99398076316"
   ],
   "metadata": {
    "collapsed": false
   },
   "id": "be18847231ddd35e"
  },
  {
   "cell_type": "markdown",
   "source": [
    "Iako model bez žanrova ima manji R-squared od modela sa žanrovima, RMSE je znatno manji. Zbog ovog razloga, uzećemo model kao glavni.  "
   ],
   "metadata": {
    "collapsed": false
   },
   "id": "f4580512a4f8e83a"
  },
  {
   "cell_type": "markdown",
   "source": [
    "#### Linearne pretpostavke"
   ],
   "metadata": {
    "collapsed": false
   },
   "id": "7f370e5c6023b211"
  },
  {
   "cell_type": "code",
   "outputs": [],
   "source": [
    "# ==============================================================================\n",
    "# Durbin-Watson 1.429 -> Vrednost oko 2 ukazuje na odsustvo autokorelacije \n",
    "# =============================================================================="
   ],
   "metadata": {
    "collapsed": false
   },
   "id": "41f9580822c04fe8"
  },
  {
   "cell_type": "code",
   "outputs": [],
   "source": [
    "# GOLDFELD-QUANDT TEST ZA JEDNAKU VARIJANSU\n",
    "gq_test = sms.het_goldfeldquandt(results.resid, X_train)\n",
    "print(\"\\nGoldfeld-Quandt test:\")\n",
    "print(\"Test statistic:\", gq_test[0])\n",
    "print(\"p-value:\", gq_test[1])\n",
    "\n",
    "# PRINT\n",
    "# Goldfeld-Quandt test:\n",
    "# Test statistic: 1.5497611372004256\n",
    "# p-value: 0.1739512524284861"
   ],
   "metadata": {
    "collapsed": false
   },
   "id": "a82e69a836f0af35"
  },
  {
   "cell_type": "markdown",
   "source": [
    "Vrednost iznad 0.05 ukazuje na jednaku varijansu."
   ],
   "metadata": {
    "collapsed": false
   },
   "id": "5debc1035f6b5e54"
  },
  {
   "cell_type": "code",
   "outputs": [],
   "source": [
    "train_predictions = model.predict(X_val)\n",
    "plt.scatter(y_val, train_predictions)\n",
    "plt.xlabel(\"Stvarne vrednosti\")\n",
    "plt.ylabel(\"Predviđene vrednosti\")\n",
    "plt.title(\"Scatter plot: Stvarne vs. Predviđene vrednosti\")\n",
    "plt.show()"
   ],
   "metadata": {
    "collapsed": false
   },
   "id": "8943d4711242e0a6"
  },
  {
   "cell_type": "markdown",
   "source": [
    "![Linearnost](linearity.png)"
   ],
   "metadata": {
    "collapsed": false
   },
   "id": "7a4e5e298f65cedb"
  },
  {
   "cell_type": "markdown",
   "source": [
    "Linearne pretpostavke su donekle ispoštovane. "
   ],
   "metadata": {
    "collapsed": false
   },
   "id": "b93793acf727b4d3"
  },
  {
   "cell_type": "markdown",
   "source": [
    "## Korišćenje i GUI"
   ],
   "metadata": {
    "collapsed": false
   },
   "id": "a1b70f7431bacc4c"
  },
  {
   "cell_type": "markdown",
   "source": [
    "Da bi se pokrenuo program, treba pokrenuti main. "
   ],
   "metadata": {
    "collapsed": false
   },
   "id": "74463a3d79fe9ebb"
  },
  {
   "cell_type": "code",
   "outputs": [],
   "source": [
    "if __name__ == \"__main__\":\n",
    "    # test_model(1, RegressionModel.OLS)\n",
    "    app = QApplication(sys.argv)\n",
    "    game_prediction_window = DisclaimerWindow()\n",
    "    game_prediction_window.show()\n",
    "    sys.exit(app.exec_())"
   ],
   "metadata": {
    "collapsed": false
   },
   "id": "a5736d645e6896fe"
  },
  {
   "cell_type": "markdown",
   "source": [
    "- Ukoliko neko želi da testira model, otkomentarisati liniju test_model(1, RegressionModel.OLS). \n",
    "- Ukoliko se prvi parametar stavi na bilo šta drugo od 1, koristiće se players_after_1year kao ciljnu promenljivu umesto players_on_release.\n",
    "- Ukoliko neko želi da testira druge modele, promeniti 2. parametar na željeni model. \n",
    "\n",
    "GUI koristi model bez žanrova. \n",
    "Međutim, žanrovi jesu dostupni ukoliko će se dataset i model menjati u budućnosti. \n",
    "\n",
    "Aplikacija procenjuje da će GTA VI imati 800_000 (+- 80000) igrača na Steam platformi, što deluje razumno budući da je GTA V imao 350_000 u trenutku izlaska. "
   ],
   "metadata": {
    "collapsed": false
   },
   "id": "5eedeb22f5e62cc2"
  },
  {
   "cell_type": "markdown",
   "source": [
    "## Zaključak"
   ],
   "metadata": {
    "collapsed": false
   },
   "id": "d4ff4637ed876fe"
  },
  {
   "cell_type": "markdown",
   "source": [
    "Model koji se izrađivao u ovom projektu je doneo umereno dobre rezultate uzimajući u obzir veličinu dataset-a koji mu je bio dostupan. \n",
    "Ukoliko se nađe način da se automatski nabavljaju statistike sa pouzdanog i konstantnog izvora, model bi definitivno imao veći potencijal. "
   ],
   "metadata": {
    "collapsed": false
   },
   "id": "7e1006fd91741edf"
  }
 ],
 "metadata": {
  "kernelspec": {
   "display_name": "Python 3",
   "language": "python",
   "name": "python3"
  },
  "language_info": {
   "codemirror_mode": {
    "name": "ipython",
    "version": 2
   },
   "file_extension": ".py",
   "mimetype": "text/x-python",
   "name": "python",
   "nbconvert_exporter": "python",
   "pygments_lexer": "ipython2",
   "version": "2.7.6"
  }
 },
 "nbformat": 4,
 "nbformat_minor": 5
}
